{
 "cells": [
  {
   "cell_type": "markdown",
   "id": "399b6486-19cf-4c07-a99b-b0d32ff3692e",
   "metadata": {},
   "source": [
    "# Systems test\n",
    "\n",
    "Just a Test\n",
    "\n",
    "### Testing\n",
    "\n",
    "\n",
    "**Bold Text**\n",
    "\n",
    "*Italic Text*\n",
    "\n",
    "## Sub heading\n",
    "\n",
    "\n",
    "**I hope to learn something new in Python from this course!**\n"
   ]
  },
  {
   "cell_type": "markdown",
   "id": "712c26b5-f13f-487a-9609-7839be0ec640",
   "metadata": {},
   "source": [
    "Sample List\n",
    "1. One\n",
    "2. Two\n",
    "3. Three\n",
    "4. Four"
   ]
  },
  {
   "cell_type": "markdown",
   "id": "ac56ca5a-b571-43cd-ab1e-9159ad0d3b8e",
   "metadata": {},
   "source": [
    "![A Goat](https://upload.wikimedia.org/wikipedia/commons/thumb/b/b2/Hausziege_04.jpg/500px-Hausziege_04.jpg)"
   ]
  },
  {
   "cell_type": "code",
   "execution_count": 9,
   "id": "075af069-3d2b-46bb-9234-6cb3c2240aa5",
   "metadata": {},
   "outputs": [
    {
     "name": "stdout",
     "output_type": "stream",
     "text": [
      "Hello Tyler\n",
      "Hello Tyler\n",
      "Hello Tyler\n",
      "Result of add: 3\n"
     ]
    }
   ],
   "source": [
    "# variable assignment\n",
    "name = \"Tyler\"\n",
    "\n",
    "# for loop\n",
    "for i in range(3):\n",
    "    # print\n",
    "    print(\"Hello\", name)\n",
    "\n",
    "# return statement inside a function\n",
    "result = add(1, 2)\n",
    "print(\"Result of add:\", result)"
   ]
  },
  {
   "cell_type": "code",
   "execution_count": null,
   "id": "83caff09-7de0-4ef4-858a-1afb90ccaf85",
   "metadata": {},
   "outputs": [],
   "source": []
  }
 ],
 "metadata": {
  "kernelspec": {
   "display_name": "Python [conda env:base] *",
   "language": "python",
   "name": "conda-base-py"
  },
  "language_info": {
   "codemirror_mode": {
    "name": "ipython",
    "version": 3
   },
   "file_extension": ".py",
   "mimetype": "text/x-python",
   "name": "python",
   "nbconvert_exporter": "python",
   "pygments_lexer": "ipython3",
   "version": "3.13.5"
  }
 },
 "nbformat": 4,
 "nbformat_minor": 5
}
